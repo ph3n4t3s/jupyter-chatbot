{
 "cells": [
  {
   "cell_type": "markdown",
   "id": "aea898a0",
   "metadata": {},
   "source": [
    "\n",
    "# Chatbot Interactif avec ChatGPT\n",
    "Ce notebook offre une interface utilisateur améliorée pour interagir avec ChatGPT sur la thématique de la communication réseau point à point.\n",
    "\n",
    "### Fonctionnalités\n",
    "1. Interface interactive et visuelle avec des widgets.\n",
    "2. Affichage formaté des conversations avec ChatGPT.\n",
    "3. Historique des conversations visualisable et téléchargeable.\n",
    "4. Indicateur visuel pendant la génération des réponses.\n",
    "\n",
    "---\n",
    "\n",
    "## Étapes :\n",
    "1. Configurez le fichier `chatBot.env` avec votre clé API OpenAI.\n",
    "2. Lancez le notebook et commencez à poser vos questions.\n",
    "3. Visualisez ou téléchargez l'historique des conversations si nécessaire.\n"
   ]
  },
  {
   "cell_type": "code",
   "execution_count": 1,
   "id": "76c02136",
   "metadata": {},
   "outputs": [
    {
     "data": {
      "text/html": [
       "\n",
       "    <style>\n",
       "        .input { display: none; }\n",
       "        .toggle-button { margin: 10px; cursor: pointer; }\n",
       "    </style>\n",
       "    <div class=\"toggle-button\" onclick=\"\n",
       "        var code_cells = document.querySelectorAll('.input');\n",
       "        code_cells.forEach(cell => {\n",
       "            cell.style.display = cell.style.display === 'none' ? '' : 'none';\n",
       "        });\n",
       "    \">Afficher/Masquer le Code</div>\n"
      ],
      "text/plain": [
       "<IPython.core.display.HTML object>"
      ]
     },
     "metadata": {},
     "output_type": "display_data"
    }
   ],
   "source": [
    "\n",
    "from IPython.display import display, HTML\n",
    "\n",
    "# Ajouter un bouton pour masquer/afficher le code\n",
    "display(HTML('''\n",
    "    <style>\n",
    "        .input { display: none; }\n",
    "        .toggle-button { margin: 10px; cursor: pointer; }\n",
    "    </style>\n",
    "    <div class=\"toggle-button\" onclick=\"\n",
    "        var code_cells = document.querySelectorAll('.input');\n",
    "        code_cells.forEach(cell => {\n",
    "            cell.style.display = cell.style.display === 'none' ? '' : 'none';\n",
    "        });\n",
    "    \">Afficher/Masquer le Code</div>\n",
    "'''))\n"
   ]
  },
  {
   "cell_type": "code",
   "execution_count": 2,
   "id": "b142d91c",
   "metadata": {},
   "outputs": [
    {
     "name": "stdout",
     "output_type": "stream",
     "text": [
      "Installation de python-dotenv...\n",
      "Toutes les dépendances sont installées.\n"
     ]
    }
   ],
   "source": [
    "\n",
    "# Installation des bibliothèques nécessaires\n",
    "import sys\n",
    "import subprocess\n",
    "\n",
    "def install(package):\n",
    "    try:\n",
    "        __import__(package)\n",
    "    except ImportError:\n",
    "        print(f\"Installation de {package}...\")\n",
    "        subprocess.check_call([sys.executable, \"-m\", \"pip\", \"install\", package, \"--quiet\"])\n",
    "\n",
    "# Liste des dépendances\n",
    "dependencies = [\"ipywidgets\", \"openai\", \"python-dotenv\"]\n",
    "\n",
    "for package in dependencies:\n",
    "    install(package)\n",
    "\n",
    "print(\"Toutes les dépendances sont installées.\")\n"
   ]
  },
  {
   "cell_type": "code",
   "execution_count": 3,
   "id": "c1f410ad",
   "metadata": {},
   "outputs": [],
   "source": [
    "\n",
    "# Charger les clés API à partir d'un fichier chatBot.env\n",
    "from dotenv import load_dotenv\n",
    "import os\n",
    "\n",
    "# Charger les variables d'environnement depuis chatBot.env\n",
    "load_dotenv(dotenv_path='chatBot.env')\n",
    "\n",
    "openai_api_key = os.getenv(\"OPENAI_API_KEY\")\n",
    "\n",
    "if not openai_api_key:\n",
    "    raise ValueError(\"La clé API OpenAI n'est pas définie dans le fichier chatBot.env.\")\n"
   ]
  },
  {
   "cell_type": "code",
   "execution_count": 4,
   "id": "bdf0557f",
   "metadata": {},
   "outputs": [
    {
     "name": "stdout",
     "output_type": "stream",
     "text": [
      "Clé OpenAI valide.\n"
     ]
    }
   ],
   "source": [
    "\n",
    "def verify_keys():\n",
    "    \"\"\"Vérifier la validité de la clé API pour OpenAI.\"\"\"\n",
    "    try:\n",
    "        import openai\n",
    "        openai.api_key = openai_api_key\n",
    "        response = openai.ChatCompletion.create(\n",
    "            model=\"gpt-3.5-turbo\",\n",
    "            messages=[\n",
    "                {\"role\": \"system\", \"content\": \"Vérification de clé API\"},\n",
    "                {\"role\": \"user\", \"content\": \"Test de clé API OpenAI\"}\n",
    "            ]\n",
    "        )\n",
    "        print(\"Clé OpenAI valide.\")\n",
    "    except Exception as e:\n",
    "        raise ValueError(f\"Clé OpenAI invalide : {e}\")\n",
    "\n",
    "# Vérification de la clé\n",
    "verify_keys()\n"
   ]
  },
  {
   "cell_type": "code",
   "execution_count": 5,
   "id": "ddf87d9f",
   "metadata": {},
   "outputs": [
    {
     "data": {
      "application/vnd.jupyter.widget-view+json": {
       "model_id": "b0e65d2480f34b6c92fa0777de9898d2",
       "version_major": 2,
       "version_minor": 0
      },
      "text/plain": [
       "HBox(children=(Text(value='Utilisateur', description='Nom :', layout=Layout(width='50%')), Label(value='')))"
      ]
     },
     "metadata": {},
     "output_type": "display_data"
    },
    {
     "data": {
      "application/vnd.jupyter.widget-view+json": {
       "model_id": "513c676fdcfc43c8b084fc623d5eae60",
       "version_major": 2,
       "version_minor": 0
      },
      "text/plain": [
       "Textarea(value='', layout=Layout(height='80px', width='100%'), placeholder='Posez une question à ChatGPT...')"
      ]
     },
     "metadata": {},
     "output_type": "display_data"
    },
    {
     "data": {
      "application/vnd.jupyter.widget-view+json": {
       "model_id": "0e3b9e6a59744e3186c21a6c371d0c6c",
       "version_major": 2,
       "version_minor": 0
      },
      "text/plain": [
       "HBox(children=(Button(button_style='success', description='Envoyer', icon='paper-plane', style=ButtonStyle()),…"
      ]
     },
     "metadata": {},
     "output_type": "display_data"
    },
    {
     "data": {
      "application/vnd.jupyter.widget-view+json": {
       "model_id": "27acad259f2f4871ad03e7fecfdfb51d",
       "version_major": 2,
       "version_minor": 0
      },
      "text/plain": [
       "Output(layout=Layout(border_bottom='1px solid black', border_left='1px solid black', border_right='1px solid b…"
      ]
     },
     "metadata": {},
     "output_type": "display_data"
    }
   ],
   "source": [
    "\n",
    "import ipywidgets as widgets\n",
    "from IPython.display import display, HTML\n",
    "import openai\n",
    "from datetime import datetime\n",
    "\n",
    "# Variables globales\n",
    "history = []\n",
    "\n",
    "# Widgets\n",
    "username_input = widgets.Text(\n",
    "    value=\"Utilisateur\",\n",
    "    description=\"Nom :\",\n",
    "    layout=widgets.Layout(width=\"50%\")\n",
    ")\n",
    "\n",
    "user_input = widgets.Textarea(\n",
    "    placeholder=\"Posez une question à ChatGPT...\",\n",
    "    layout=widgets.Layout(width=\"100%\", height=\"80px\")\n",
    ")\n",
    "\n",
    "send_button = widgets.Button(\n",
    "    description=\"Envoyer\",\n",
    "    button_style=\"success\",\n",
    "    icon=\"paper-plane\"\n",
    ")\n",
    "\n",
    "clear_button = widgets.Button(\n",
    "    description=\"Réinitialiser\",\n",
    "    button_style=\"warning\",\n",
    "    icon=\"refresh\"\n",
    ")\n",
    "\n",
    "save_button = widgets.Button(\n",
    "    description=\"Télécharger l'historique\",\n",
    "    button_style=\"info\",\n",
    "    icon=\"download\"\n",
    ")\n",
    "\n",
    "output_area = widgets.Output(layout=widgets.Layout(border=\"1px solid black\", padding=\"10px\", width=\"100%\"))\n",
    "spinner = widgets.Label(value=\"\")  # Indicateur pendant le chargement\n",
    "\n",
    "\n",
    "# Fonction pour interagir avec ChatGPT\n",
    "def interact_with_chatgpt(prompt, username):\n",
    "    openai.api_key = openai_api_key\n",
    "    try:\n",
    "        response = openai.ChatCompletion.create(\n",
    "            model=\"gpt-3.5-turbo\",\n",
    "            messages=[\n",
    "                {\"role\": \"system\", \"content\": \"Vous êtes un expert en communication réseau.\"},\n",
    "                {\"role\": \"user\", \"content\": prompt}\n",
    "            ]\n",
    "        )\n",
    "        return response.choices[0].message['content']\n",
    "    except Exception as e:\n",
    "        return f\"Erreur lors de la communication avec ChatGPT : {e}\"\n",
    "\n",
    "\n",
    "# Gestion des événements\n",
    "def handle_send(_):\n",
    "    prompt = user_input.value.strip()\n",
    "    username = username_input.value.strip() or \"Utilisateur\"\n",
    "    if not prompt:\n",
    "        with output_area:\n",
    "            print(\"Veuillez entrer une question.\")\n",
    "        return\n",
    "\n",
    "    # Afficher le spinner\n",
    "    spinner.value = \"Génération en cours...\"\n",
    "    output_area.clear_output()\n",
    "\n",
    "    # Interaction avec ChatGPT\n",
    "    response = interact_with_chatgpt(prompt, username)\n",
    "\n",
    "    # Mise à jour de l'affichage et de l'historique\n",
    "    with output_area:\n",
    "        print(f\"**{username} :** {prompt}\\n\")\n",
    "        print(f\"**ChatGPT :** {response}\\n\")\n",
    "    history.append({\"user\": username, \"prompt\": prompt, \"response\": response})\n",
    "\n",
    "    # Réinitialiser le spinner et l'entrée utilisateur\n",
    "    spinner.value = \"\"\n",
    "    user_input.value = \"\"\n",
    "\n",
    "\n",
    "def handle_clear(_):\n",
    "    history.clear()\n",
    "    output_area.clear_output()\n",
    "    print(\"Historique réinitialisé.\")\n",
    "\n",
    "\n",
    "def handle_save(_):\n",
    "    if not history:\n",
    "        with output_area:\n",
    "            print(\"Aucun historique à sauvegarder.\")\n",
    "        return\n",
    "\n",
    "    filename = f\"conversation_history_{datetime.now().strftime('%Y%m%d_%H%M%S')}.md\"\n",
    "    with open(filename, 'w') as f:\n",
    "        f.write(\"# Historique de la Conversation\\n\")\n",
    "        for entry in history:\n",
    "            f.write(f\"**{entry['user']} :** {entry['prompt']}\\n\\n\")\n",
    "            f.write(f\"**ChatGPT :** {entry['response']}\\n\\n\")\n",
    "    with output_area:\n",
    "        print(f\"Historique sauvegardé sous : {filename}\")\n",
    "\n",
    "\n",
    "# Associer les boutons aux fonctions\n",
    "send_button.on_click(handle_send)\n",
    "clear_button.on_click(handle_clear)\n",
    "save_button.on_click(handle_save)\n",
    "\n",
    "# Affichage des widgets\n",
    "display(widgets.HBox([username_input, spinner]))\n",
    "display(user_input, widgets.HBox([send_button, clear_button, save_button]), output_area)\n"
   ]
  },
  {
   "cell_type": "code",
   "execution_count": null,
   "id": "eb3da53b-3b97-4132-87a9-fbac7c3b1113",
   "metadata": {},
   "outputs": [],
   "source": []
  }
 ],
 "metadata": {
  "kernelspec": {
   "display_name": "Python 3 (ipykernel)",
   "language": "python",
   "name": "python3"
  },
  "language_info": {
   "codemirror_mode": {
    "name": "ipython",
    "version": 3
   },
   "file_extension": ".py",
   "mimetype": "text/x-python",
   "name": "python",
   "nbconvert_exporter": "python",
   "pygments_lexer": "ipython3",
   "version": "3.11.6"
  }
 },
 "nbformat": 4,
 "nbformat_minor": 5
}
